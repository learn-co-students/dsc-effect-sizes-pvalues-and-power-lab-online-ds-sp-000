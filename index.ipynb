{
 "cells": [
  {
   "cell_type": "markdown",
   "metadata": {},
   "source": [
    "# Effect Size, P-Values and Power - Lab\n",
    "\n",
    "## Introduction \n",
    "\n",
    "In this lab, you'll run simulations to continue to investigate the relationship between effect size, p-values, power, and sample size!\n",
    "\n",
    "## Objectives\n",
    "You will be able to:\n",
    "* Run a simulation that creates a visualization to demonstrate the interaction between power, sample size, and effect size"
   ]
  },
  {
   "cell_type": "markdown",
   "metadata": {},
   "source": [
    "## Philosophical review\n",
    "\n",
    "Remember that the underlying question behind all hypothesis tests is:\n",
    "\n",
    ">\"What is the probability I would see this effect due to random fluctuations if there was actually no effect?\" \n",
    "\n",
    "This is exactly what a p-value represents: the chance that the observed data would satisfy the null hypothesis. As such, if the p-value is sufficiently low, you can declare the results statistically significant and reject the null hypothesis. Recall that this threshold is defined as $\\alpha$, and is also the rate of type I errors. In this lab, you'll investigate the robustness of p-values and their relation with effect-size and sample-size. "
   ]
  },
  {
   "cell_type": "markdown",
   "metadata": {},
   "source": [
    "## Import starter functions\n",
    "\n",
    "To start, import the functions stored in the `flatiron_stats.py` file. It contains the stats functions that you previously coded in the last lab: `welch_t(a,b)`, `welch_df(a, b)`, and `p_value(a, b, two_sided=False)`. You'll then use these functions below to further investigate the relationship between p-values and sample size."
   ]
  },
  {
   "cell_type": "code",
   "execution_count": 5,
   "metadata": {},
   "outputs": [],
   "source": [
    "# Your code here; import the contents from flatiron_stats.py\n",
    "# You may also wish to open up flatiron_stats.py in a text editor to preview its contents \n",
    "\n",
    "from flatiron_stats import *"
   ]
  },
  {
   "cell_type": "markdown",
   "metadata": {},
   "source": [
    "## Generate random samples\n",
    "\n",
    "Before you start running simulations, it will be useful to have a helper function that will generate random samples. Write such a function below which generates 2 random samples from 2 normal distributions. The function should take 6 input parameters:\n",
    "\n",
    "* m1 - The underlying population mean for sample 1\n",
    "* s1 - The underlying population standard deviation for sample 1\n",
    "* n1 - The sample size for sample 1\n",
    "\n",
    "* m2 - The underlying population mean for sample 2\n",
    "* s2 - The underlying population standard deviation for sample 2\n",
    "* n2 - The sample size for sample 2"
   ]
  },
  {
   "cell_type": "code",
   "execution_count": 9,
   "metadata": {},
   "outputs": [],
   "source": [
    "import numpy as np\n",
    "def generate_samples(m1, s1, n1, m2, s2, n2):\n",
    "    # Your code here; have the function create two random samples using the input parameters\n",
    "    \n",
    "    sample1 = np.random.normal(m1,s1,size = n1)\n",
    "    sample2 = np.random.normal(m2,s2,size = n2)\n",
    "    return sample1, sample2"
   ]
  },
  {
   "cell_type": "markdown",
   "metadata": {},
   "source": [
    "## Run a simulation\n",
    "\n",
    "For your first simulation, you're going to investigate how the p-value of an experiment relates to sample size when both samples are from identical underlying distributions. To do this, use your `generate_samples()` function along with the `p_value_welch_ttest()` function defined in the `flatiron_stats` file. Use sample sizes from 5 to 750. For each sample size, simulate 100 experiments. For each of these experiments, generate 2 samples of the given sample size. Each sample should have a standard deviation of 1. The first sample should have a mean of 5 and the second should have a mean of 5 plus the effect size, you hope to detect. Calculate the corresponding p-values for a Welch's t-test for each of these sample pairs. Finally, use the p-values to calculate the power of the test. Remember that for all of the simulations where the effect size does not equal zero, the null hypothesis is not true. Store the overall power from the 100 simulations along with the corresponding sample size and effect size. Use varying effect sizes such as [0, 0.01, 0.1, 0.2, 0.5, 1, 2]. You'll then plot power vs sample size for various effect sizes."
   ]
  },
  {
   "cell_type": "code",
   "execution_count": 7,
   "metadata": {},
   "outputs": [],
   "source": [
    "import pandas as pd\n",
    "import matplotlib.pyplot as plt\n",
    "import seaborn as sns\n",
    "%matplotlib inline\n",
    "sns.set_style('darkgrid')"
   ]
  },
  {
   "cell_type": "code",
   "execution_count": 29,
   "metadata": {},
   "outputs": [],
   "source": [
    "# Your code here\n",
    "\n",
    "effect_sizes = [0, 0.01, 0.1, 0.2, 0.5, 1, 2]\n",
    "sample_sizes = [x for x in range(5,750,5)]\n",
    "p_vs_e_n = {}\n",
    "alpha = 0.05\n",
    "\n",
    "for effect in effect_sizes:\n",
    "    n_vs_p = {}\n",
    "    for size in range(5,750,5):\n",
    "        p_vals = []\n",
    "        row = {}\n",
    "        for x in range(101):\n",
    "            samp1,samp2 = generate_samples(5,1,size,(5+effect),1,size)\n",
    "            p = p_value_welch_ttest(samp1,samp2)\n",
    "            p_vals.append(p)\n",
    "        nul_rejected = np.sum(p < 0.05)\n",
    "        power = nul_rejected/len(p_vals)\n",
    "        n_vs_p[size] = np.sum([1 for p in p_vals if p<alpha])/len(p_vals)\n",
    "    p_vs_e_n[effect] = n_vs_p\n",
    "\n",
    "power_df = pd.DataFrame.from_dict(p_vs_e_n)\n",
    "# Pseudo code outline\n",
    "# for effect size:\n",
    "#     for sample_size:\n",
    "#         perform 100 simulations\n",
    "#         calculate power\n",
    "#         store effect_size, sample_size, power for simulations"
   ]
  },
  {
   "cell_type": "code",
   "execution_count": 30,
   "metadata": {},
   "outputs": [
    {
     "data": {
      "text/html": [
       "<div>\n",
       "<style scoped>\n",
       "    .dataframe tbody tr th:only-of-type {\n",
       "        vertical-align: middle;\n",
       "    }\n",
       "\n",
       "    .dataframe tbody tr th {\n",
       "        vertical-align: top;\n",
       "    }\n",
       "\n",
       "    .dataframe thead th {\n",
       "        text-align: right;\n",
       "    }\n",
       "</style>\n",
       "<table border=\"1\" class=\"dataframe\">\n",
       "  <thead>\n",
       "    <tr style=\"text-align: right;\">\n",
       "      <th></th>\n",
       "      <th>0.00</th>\n",
       "      <th>0.01</th>\n",
       "      <th>0.10</th>\n",
       "      <th>0.20</th>\n",
       "      <th>0.50</th>\n",
       "      <th>1.00</th>\n",
       "      <th>2.00</th>\n",
       "    </tr>\n",
       "  </thead>\n",
       "  <tbody>\n",
       "    <tr>\n",
       "      <th>5</th>\n",
       "      <td>0.128713</td>\n",
       "      <td>0.099010</td>\n",
       "      <td>0.178218</td>\n",
       "      <td>0.118812</td>\n",
       "      <td>0.188119</td>\n",
       "      <td>0.346535</td>\n",
       "      <td>0.861386</td>\n",
       "    </tr>\n",
       "    <tr>\n",
       "      <th>10</th>\n",
       "      <td>0.089109</td>\n",
       "      <td>0.099010</td>\n",
       "      <td>0.108911</td>\n",
       "      <td>0.089109</td>\n",
       "      <td>0.247525</td>\n",
       "      <td>0.712871</td>\n",
       "      <td>1.000000</td>\n",
       "    </tr>\n",
       "    <tr>\n",
       "      <th>15</th>\n",
       "      <td>0.138614</td>\n",
       "      <td>0.158416</td>\n",
       "      <td>0.138614</td>\n",
       "      <td>0.118812</td>\n",
       "      <td>0.386139</td>\n",
       "      <td>0.871287</td>\n",
       "      <td>1.000000</td>\n",
       "    </tr>\n",
       "    <tr>\n",
       "      <th>20</th>\n",
       "      <td>0.118812</td>\n",
       "      <td>0.128713</td>\n",
       "      <td>0.118812</td>\n",
       "      <td>0.188119</td>\n",
       "      <td>0.455446</td>\n",
       "      <td>0.920792</td>\n",
       "      <td>1.000000</td>\n",
       "    </tr>\n",
       "    <tr>\n",
       "      <th>25</th>\n",
       "      <td>0.079208</td>\n",
       "      <td>0.118812</td>\n",
       "      <td>0.148515</td>\n",
       "      <td>0.217822</td>\n",
       "      <td>0.554455</td>\n",
       "      <td>0.980198</td>\n",
       "      <td>1.000000</td>\n",
       "    </tr>\n",
       "    <tr>\n",
       "      <th>...</th>\n",
       "      <td>...</td>\n",
       "      <td>...</td>\n",
       "      <td>...</td>\n",
       "      <td>...</td>\n",
       "      <td>...</td>\n",
       "      <td>...</td>\n",
       "      <td>...</td>\n",
       "    </tr>\n",
       "    <tr>\n",
       "      <th>725</th>\n",
       "      <td>0.128713</td>\n",
       "      <td>0.089109</td>\n",
       "      <td>0.633663</td>\n",
       "      <td>0.980198</td>\n",
       "      <td>1.000000</td>\n",
       "      <td>1.000000</td>\n",
       "      <td>1.000000</td>\n",
       "    </tr>\n",
       "    <tr>\n",
       "      <th>730</th>\n",
       "      <td>0.148515</td>\n",
       "      <td>0.118812</td>\n",
       "      <td>0.534653</td>\n",
       "      <td>0.980198</td>\n",
       "      <td>1.000000</td>\n",
       "      <td>1.000000</td>\n",
       "      <td>1.000000</td>\n",
       "    </tr>\n",
       "    <tr>\n",
       "      <th>735</th>\n",
       "      <td>0.089109</td>\n",
       "      <td>0.089109</td>\n",
       "      <td>0.623762</td>\n",
       "      <td>1.000000</td>\n",
       "      <td>1.000000</td>\n",
       "      <td>1.000000</td>\n",
       "      <td>1.000000</td>\n",
       "    </tr>\n",
       "    <tr>\n",
       "      <th>740</th>\n",
       "      <td>0.138614</td>\n",
       "      <td>0.108911</td>\n",
       "      <td>0.653465</td>\n",
       "      <td>0.990099</td>\n",
       "      <td>1.000000</td>\n",
       "      <td>1.000000</td>\n",
       "      <td>1.000000</td>\n",
       "    </tr>\n",
       "    <tr>\n",
       "      <th>745</th>\n",
       "      <td>0.108911</td>\n",
       "      <td>0.089109</td>\n",
       "      <td>0.613861</td>\n",
       "      <td>0.960396</td>\n",
       "      <td>1.000000</td>\n",
       "      <td>1.000000</td>\n",
       "      <td>1.000000</td>\n",
       "    </tr>\n",
       "  </tbody>\n",
       "</table>\n",
       "<p>149 rows × 7 columns</p>\n",
       "</div>"
      ],
      "text/plain": [
       "         0.00      0.01      0.10      0.20      0.50      1.00      2.00\n",
       "5    0.128713  0.099010  0.178218  0.118812  0.188119  0.346535  0.861386\n",
       "10   0.089109  0.099010  0.108911  0.089109  0.247525  0.712871  1.000000\n",
       "15   0.138614  0.158416  0.138614  0.118812  0.386139  0.871287  1.000000\n",
       "20   0.118812  0.128713  0.118812  0.188119  0.455446  0.920792  1.000000\n",
       "25   0.079208  0.118812  0.148515  0.217822  0.554455  0.980198  1.000000\n",
       "..        ...       ...       ...       ...       ...       ...       ...\n",
       "725  0.128713  0.089109  0.633663  0.980198  1.000000  1.000000  1.000000\n",
       "730  0.148515  0.118812  0.534653  0.980198  1.000000  1.000000  1.000000\n",
       "735  0.089109  0.089109  0.623762  1.000000  1.000000  1.000000  1.000000\n",
       "740  0.138614  0.108911  0.653465  0.990099  1.000000  1.000000  1.000000\n",
       "745  0.108911  0.089109  0.613861  0.960396  1.000000  1.000000  1.000000\n",
       "\n",
       "[149 rows x 7 columns]"
      ]
     },
     "metadata": {},
     "output_type": "display_data"
    }
   ],
   "source": [
    "display(power_df)"
   ]
  },
  {
   "cell_type": "markdown",
   "metadata": {},
   "source": [
    "Now that you've simulated the data, go ahead and graph it! Label the x-axis sample size, the y-axis power, and be sure to include a legend for the various effect sizes."
   ]
  },
  {
   "cell_type": "code",
   "execution_count": 31,
   "metadata": {},
   "outputs": [
    {
     "data": {
      "text/plain": [
       "<matplotlib.axes._subplots.AxesSubplot at 0x7f0d63ea9dd0>"
      ]
     },
     "execution_count": 31,
     "metadata": {},
     "output_type": "execute_result"
    },
    {
     "data": {
      "image/png": "[encoded data removed]",
      "text/plain": [
       "<Figure size 432x288 with 1 Axes>"
      ]
     },
     "metadata": {
      "needs_background": "light"
     },
     "output_type": "display_data"
    }
   ],
   "source": [
    "power_df.plot()\n"
   ]
  },
  {
   "cell_type": "markdown",
   "metadata": {},
   "source": [
    "As you can see, it's also typically incredibly difficult (if not impossible) to accurately detect effect sizes below 0.1!"
   ]
  },
  {
   "cell_type": "markdown",
   "metadata": {},
   "source": [
    "## Summary\n",
    "\n",
    "This lesson summarizes and further builds upon the ideas that we saw in the previous labs. We learned how p-value can be described as a function of effect size and for a given effect size, the p-value may get lower if we increase the sample size considerably. We also saw how p-value alone can not be used in order to identify some results as truly significant, as this can be achieved when there is not a significant effect size. "
   ]
  }
 ],
 "metadata": {
  "kernelspec": {
   "display_name": "Python 3",
   "language": "python",
   "name": "python3"
  },
  "language_info": {
   "codemirror_mode": {
    "name": "ipython",
    "version": 3
   },
   "file_extension": ".py",
   "mimetype": "text/x-python",
   "name": "python",
   "nbconvert_exporter": "python",
   "pygments_lexer": "ipython3",
   "version": "3.7.5"
  },
  "toc": {
   "base_numbering": 1,
   "nav_menu": {},
   "number_sections": true,
   "sideBar": true,
   "skip_h1_title": false,
   "title_cell": "Table of Contents",
   "title_sidebar": "Contents",
   "toc_cell": false,
   "toc_position": {},
   "toc_section_display": true,
   "toc_window_display": false
  },
  "varInspector": {
   "cols": {
    "lenName": 16,
    "lenType": 16,
    "lenVar": 40
   },
   "kernels_config": {
    "python": {
     "delete_cmd_postfix": "",
     "delete_cmd_prefix": "del ",
     "library": "var_list.py",
     "varRefreshCmd": "print(var_dic_list())"
    },
    "r": {
     "delete_cmd_postfix": ") ",
     "delete_cmd_prefix": "rm(",
     "library": "var_list.r",
     "varRefreshCmd": "cat(var_dic_list()) "
    }
   },
   "types_to_exclude": [
    "module",
    "function",
    "builtin_function_or_method",
    "instance",
    "_Feature"
   ],
   "window_display": true
  }
 },
 "nbformat": 4,
 "nbformat_minor": 2
}
